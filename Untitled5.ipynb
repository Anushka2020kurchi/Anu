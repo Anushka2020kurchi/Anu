{
  "nbformat": 4,
  "nbformat_minor": 0,
  "metadata": {
    "colab": {
      "name": "Untitled5.ipynb",
      "provenance": [],
      "include_colab_link": true
    },
    "kernelspec": {
      "name": "python3",
      "display_name": "Python 3"
    },
    "language_info": {
      "name": "python"
    }
  },
  "cells": [
    {
      "cell_type": "markdown",
      "metadata": {
        "id": "view-in-github",
        "colab_type": "text"
      },
      "source": [
        "<a href=\"https://colab.research.google.com/github/Anushka2020kurchi/Anu/blob/master/Untitled5.ipynb\" target=\"_parent\"><img src=\"https://colab.research.google.com/assets/colab-badge.svg\" alt=\"Open In Colab\"/></a>"
      ]
    },
    {
      "cell_type": "code",
      "metadata": {
        "id": "azeOzpjQOb7z"
      },
      "source": [
        "import numpy as np"
      ],
      "execution_count": null,
      "outputs": []
    },
    {
      "cell_type": "code",
      "metadata": {
        "id": "40mfmOLuPb7I"
      },
      "source": [
        "a=np.array([1,2,3,4,5])"
      ],
      "execution_count": null,
      "outputs": []
    },
    {
      "cell_type": "code",
      "metadata": {
        "colab": {
          "base_uri": "https://localhost:8080/"
        },
        "id": "VaCMiPeaPf4z",
        "outputId": "d865e007-72c4-423d-85cd-0dac80f20c3b"
      },
      "source": [
        "type(a)"
      ],
      "execution_count": null,
      "outputs": [
        {
          "output_type": "execute_result",
          "data": {
            "text/plain": [
              "numpy.ndarray"
            ]
          },
          "metadata": {
            "tags": []
          },
          "execution_count": 5
        }
      ]
    },
    {
      "cell_type": "code",
      "metadata": {
        "colab": {
          "base_uri": "https://localhost:8080/",
          "height": 35
        },
        "id": "adReEk4IPkht",
        "outputId": "0c5f05cc-a028-4081-ded2-d84df9591539"
      },
      "source": [
        "import os \n",
        "os.getcwd()"
      ],
      "execution_count": null,
      "outputs": [
        {
          "output_type": "execute_result",
          "data": {
            "application/vnd.google.colaboratory.intrinsic+json": {
              "type": "string"
            },
            "text/plain": [
              "'/content'"
            ]
          },
          "metadata": {
            "tags": []
          },
          "execution_count": 6
        }
      ]
    },
    {
      "cell_type": "code",
      "metadata": {
        "id": "A87EgPZePz6_"
      },
      "source": [
        "import pandas as pd"
      ],
      "execution_count": null,
      "outputs": []
    },
    {
      "cell_type": "code",
      "metadata": {
        "id": "uhkmQbcuP4LN"
      },
      "source": [
        "dataf=pd.read_csv(\"/content/drive/MyDrive/Colab Notebooks/titanic (1).csv\")"
      ],
      "execution_count": null,
      "outputs": []
    },
    {
      "cell_type": "code",
      "metadata": {
        "colab": {
          "base_uri": "https://localhost:8080/"
        },
        "id": "jS1JH3GMQUN_",
        "outputId": "b8ecd4a1-a6d4-4b07-96f8-206844e1020f"
      },
      "source": [
        "dataf.shape"
      ],
      "execution_count": null,
      "outputs": [
        {
          "output_type": "execute_result",
          "data": {
            "text/plain": [
              "(891, 12)"
            ]
          },
          "metadata": {
            "tags": []
          },
          "execution_count": 10
        }
      ]
    },
    {
      "cell_type": "code",
      "metadata": {
        "colab": {
          "base_uri": "https://localhost:8080/",
          "height": 237
        },
        "id": "ZwxtePjYQbQP",
        "outputId": "810cdb9e-82ec-4157-dd52-9ffa2b5ed338"
      },
      "source": [
        "dataf.head()"
      ],
      "execution_count": null,
      "outputs": [
        {
          "output_type": "execute_result",
          "data": {
            "text/html": [
              "<div>\n",
              "<style scoped>\n",
              "    .dataframe tbody tr th:only-of-type {\n",
              "        vertical-align: middle;\n",
              "    }\n",
              "\n",
              "    .dataframe tbody tr th {\n",
              "        vertical-align: top;\n",
              "    }\n",
              "\n",
              "    .dataframe thead th {\n",
              "        text-align: right;\n",
              "    }\n",
              "</style>\n",
              "<table border=\"1\" class=\"dataframe\">\n",
              "  <thead>\n",
              "    <tr style=\"text-align: right;\">\n",
              "      <th></th>\n",
              "      <th>PassengerId</th>\n",
              "      <th>Survived</th>\n",
              "      <th>Pclass</th>\n",
              "      <th>Name</th>\n",
              "      <th>Sex</th>\n",
              "      <th>Age</th>\n",
              "      <th>SibSp</th>\n",
              "      <th>Parch</th>\n",
              "      <th>Ticket</th>\n",
              "      <th>Fare</th>\n",
              "      <th>Cabin</th>\n",
              "      <th>Embarked</th>\n",
              "    </tr>\n",
              "  </thead>\n",
              "  <tbody>\n",
              "    <tr>\n",
              "      <th>0</th>\n",
              "      <td>1</td>\n",
              "      <td>0</td>\n",
              "      <td>3</td>\n",
              "      <td>Braund, Mr. Owen Harris</td>\n",
              "      <td>male</td>\n",
              "      <td>22.0</td>\n",
              "      <td>1</td>\n",
              "      <td>0</td>\n",
              "      <td>A/5 21171</td>\n",
              "      <td>7.2500</td>\n",
              "      <td>NaN</td>\n",
              "      <td>S</td>\n",
              "    </tr>\n",
              "    <tr>\n",
              "      <th>1</th>\n",
              "      <td>2</td>\n",
              "      <td>1</td>\n",
              "      <td>1</td>\n",
              "      <td>Cumings, Mrs. John Bradley (Florence Briggs Th...</td>\n",
              "      <td>female</td>\n",
              "      <td>38.0</td>\n",
              "      <td>1</td>\n",
              "      <td>0</td>\n",
              "      <td>PC 17599</td>\n",
              "      <td>71.2833</td>\n",
              "      <td>C85</td>\n",
              "      <td>C</td>\n",
              "    </tr>\n",
              "    <tr>\n",
              "      <th>2</th>\n",
              "      <td>3</td>\n",
              "      <td>1</td>\n",
              "      <td>3</td>\n",
              "      <td>Heikkinen, Miss. Laina</td>\n",
              "      <td>female</td>\n",
              "      <td>26.0</td>\n",
              "      <td>0</td>\n",
              "      <td>0</td>\n",
              "      <td>STON/O2. 3101282</td>\n",
              "      <td>7.9250</td>\n",
              "      <td>NaN</td>\n",
              "      <td>S</td>\n",
              "    </tr>\n",
              "    <tr>\n",
              "      <th>3</th>\n",
              "      <td>4</td>\n",
              "      <td>1</td>\n",
              "      <td>1</td>\n",
              "      <td>Futrelle, Mrs. Jacques Heath (Lily May Peel)</td>\n",
              "      <td>female</td>\n",
              "      <td>35.0</td>\n",
              "      <td>1</td>\n",
              "      <td>0</td>\n",
              "      <td>113803</td>\n",
              "      <td>53.1000</td>\n",
              "      <td>C123</td>\n",
              "      <td>S</td>\n",
              "    </tr>\n",
              "    <tr>\n",
              "      <th>4</th>\n",
              "      <td>5</td>\n",
              "      <td>0</td>\n",
              "      <td>3</td>\n",
              "      <td>Allen, Mr. William Henry</td>\n",
              "      <td>male</td>\n",
              "      <td>35.0</td>\n",
              "      <td>0</td>\n",
              "      <td>0</td>\n",
              "      <td>373450</td>\n",
              "      <td>8.0500</td>\n",
              "      <td>NaN</td>\n",
              "      <td>S</td>\n",
              "    </tr>\n",
              "  </tbody>\n",
              "</table>\n",
              "</div>"
            ],
            "text/plain": [
              "   PassengerId  Survived  Pclass  ...     Fare Cabin  Embarked\n",
              "0            1         0       3  ...   7.2500   NaN         S\n",
              "1            2         1       1  ...  71.2833   C85         C\n",
              "2            3         1       3  ...   7.9250   NaN         S\n",
              "3            4         1       1  ...  53.1000  C123         S\n",
              "4            5         0       3  ...   8.0500   NaN         S\n",
              "\n",
              "[5 rows x 12 columns]"
            ]
          },
          "metadata": {
            "tags": []
          },
          "execution_count": 11
        }
      ]
    },
    {
      "cell_type": "code",
      "metadata": {
        "colab": {
          "base_uri": "https://localhost:8080/"
        },
        "id": "GGCl_QjuReoI",
        "outputId": "65db36f5-ee70-4ef4-fb1d-b87ba603f7e1"
      },
      "source": [
        "type(dataf)"
      ],
      "execution_count": null,
      "outputs": [
        {
          "output_type": "execute_result",
          "data": {
            "text/plain": [
              "pandas.core.frame.DataFrame"
            ]
          },
          "metadata": {
            "tags": []
          },
          "execution_count": 12
        }
      ]
    },
    {
      "cell_type": "code",
      "metadata": {
        "colab": {
          "base_uri": "https://localhost:8080/"
        },
        "id": "QWfWlpJdRn7V",
        "outputId": "91441d30-40b8-4a06-de15-5257252ce9b9"
      },
      "source": [
        "type(dataf[\"Age\"])"
      ],
      "execution_count": null,
      "outputs": [
        {
          "output_type": "execute_result",
          "data": {
            "text/plain": [
              "pandas.core.series.Series"
            ]
          },
          "metadata": {
            "tags": []
          },
          "execution_count": 13
        }
      ]
    },
    {
      "cell_type": "code",
      "metadata": {
        "colab": {
          "base_uri": "https://localhost:8080/"
        },
        "id": "0P1z1G_SRtuc",
        "outputId": "7adbe6dc-52b4-4e80-efa7-9c1a4d23cfbd"
      },
      "source": [
        "dataf.isna().sum()"
      ],
      "execution_count": null,
      "outputs": [
        {
          "output_type": "execute_result",
          "data": {
            "text/plain": [
              "PassengerId      0\n",
              "Survived         0\n",
              "Pclass           0\n",
              "Name             0\n",
              "Sex              0\n",
              "Age            177\n",
              "SibSp            0\n",
              "Parch            0\n",
              "Ticket           0\n",
              "Fare             0\n",
              "Cabin          687\n",
              "Embarked         2\n",
              "dtype: int64"
            ]
          },
          "metadata": {
            "tags": []
          },
          "execution_count": 14
        }
      ]
    },
    {
      "cell_type": "code",
      "metadata": {
        "colab": {
          "base_uri": "https://localhost:8080/"
        },
        "id": "tXTGLN0PRzqv",
        "outputId": "e25fe5ac-c64c-4066-941f-424f0a5614a0"
      },
      "source": [
        "sum(dataf[\"Cabin\"].isnull())"
      ],
      "execution_count": null,
      "outputs": [
        {
          "output_type": "execute_result",
          "data": {
            "text/plain": [
              "687"
            ]
          },
          "metadata": {
            "tags": []
          },
          "execution_count": 15
        }
      ]
    },
    {
      "cell_type": "code",
      "metadata": {
        "id": "BtTJic34R58L"
      },
      "source": [
        "dataf.drop([\"Cabin\"],axis=1,inplace=True)"
      ],
      "execution_count": null,
      "outputs": []
    },
    {
      "cell_type": "code",
      "metadata": {
        "colab": {
          "base_uri": "https://localhost:8080/"
        },
        "id": "rhOMOPYBR_pi",
        "outputId": "efd0479e-1eec-42f4-d984-d599cd77c1ce"
      },
      "source": [
        "dataf[\"Ticket\"][0:5]"
      ],
      "execution_count": null,
      "outputs": [
        {
          "output_type": "execute_result",
          "data": {
            "text/plain": [
              "0           A/5 21171\n",
              "1            PC 17599\n",
              "2    STON/O2. 3101282\n",
              "3              113803\n",
              "4              373450\n",
              "Name: Ticket, dtype: object"
            ]
          },
          "metadata": {
            "tags": []
          },
          "execution_count": 17
        }
      ]
    },
    {
      "cell_type": "code",
      "metadata": {
        "id": "sMoKP51-SEzn"
      },
      "source": [
        "dataf.drop([\"Ticket\"],axis=1,inplace=True)"
      ],
      "execution_count": null,
      "outputs": []
    },
    {
      "cell_type": "code",
      "metadata": {
        "colab": {
          "base_uri": "https://localhost:8080/"
        },
        "id": "1IFXwpAdSLSX",
        "outputId": "177bcd43-5208-4f4e-d203-10050c30ef4e"
      },
      "source": [
        "dataf.apply(lambda x:sum(x.isnull()),axis=0)"
      ],
      "execution_count": null,
      "outputs": [
        {
          "output_type": "execute_result",
          "data": {
            "text/plain": [
              "PassengerId      0\n",
              "Survived         0\n",
              "Pclass           0\n",
              "Name             0\n",
              "Sex              0\n",
              "Age            177\n",
              "SibSp            0\n",
              "Parch            0\n",
              "Fare             0\n",
              "Embarked         2\n",
              "dtype: int64"
            ]
          },
          "metadata": {
            "tags": []
          },
          "execution_count": 19
        }
      ]
    },
    {
      "cell_type": "code",
      "metadata": {
        "colab": {
          "base_uri": "https://localhost:8080/"
        },
        "id": "vreYk5MASfpd",
        "outputId": "c1f59f82-95df-4212-afc8-e08583780bc1"
      },
      "source": [
        "dataf.Age.fillna(dataf.Age.mean(),inplace=True)\n",
        "dataf.apply(lambda x:sum(x.isnull()),axis=0)"
      ],
      "execution_count": null,
      "outputs": [
        {
          "output_type": "execute_result",
          "data": {
            "text/plain": [
              "PassengerId    0\n",
              "Survived       0\n",
              "Pclass         0\n",
              "Name           0\n",
              "Sex            0\n",
              "Age            0\n",
              "SibSp          0\n",
              "Parch          0\n",
              "Fare           0\n",
              "Embarked       2\n",
              "dtype: int64"
            ]
          },
          "metadata": {
            "tags": []
          },
          "execution_count": 21
        }
      ]
    },
    {
      "cell_type": "code",
      "metadata": {
        "colab": {
          "base_uri": "https://localhost:8080/"
        },
        "id": "o6_LSHzASny5",
        "outputId": "176ac9b7-1765-4633-f6c1-b54234c10322"
      },
      "source": [
        "def get_title(name):\n",
        "    if '.' in name:\n",
        "        return name.split(',')[1].split('.')[0].strip()\n",
        "    else:\n",
        "        return 'Unknown'\n",
        "\n",
        "ans=get_title('Braund, Mr. Owen Harris')\n",
        "print (ans)"
      ],
      "execution_count": null,
      "outputs": [
        {
          "output_type": "stream",
          "text": [
            "Mr\n"
          ],
          "name": "stdout"
        }
      ]
    },
    {
      "cell_type": "code",
      "metadata": {
        "colab": {
          "base_uri": "https://localhost:8080/"
        },
        "id": "GMgxAHSPSuet",
        "outputId": "b1dd9d45-09a1-4e7d-dd7f-5671034758de"
      },
      "source": [
        "dataf2 = [dataf.Name.str.split(' ')[index][0]\n",
        "             for index in range(0, len(dataf))]\n",
        "print(dataf2)"
      ],
      "execution_count": null,
      "outputs": [
        {
          "output_type": "stream",
          "text": [
            "['Braund,', 'Cumings,', 'Heikkinen,', 'Futrelle,', 'Allen,', 'Moran,', 'McCarthy,', 'Palsson,', 'Johnson,', 'Nasser,', 'Sandstrom,', 'Bonnell,', 'Saundercock,', 'Andersson,', 'Vestrom,', 'Hewlett,', 'Rice,', 'Williams,', 'Vander', 'Masselmani,', 'Fynney,', 'Beesley,', 'McGowan,', 'Sloper,', 'Palsson,', 'Asplund,', 'Emir,', 'Fortune,', \"O'Dwyer,\", 'Todoroff,', 'Uruchurtu,', 'Spencer,', 'Glynn,', 'Wheadon,', 'Meyer,', 'Holverson,', 'Mamee,', 'Cann,', 'Vander', 'Nicola-Yarred,', 'Ahlin,', 'Turpin,', 'Kraeff,', 'Laroche,', 'Devaney,', 'Rogers,', 'Lennon,', \"O'Driscoll,\", 'Samaan,', 'Arnold-Franchi,', 'Panula,', 'Nosworthy,', 'Harper,', 'Faunthorpe,', 'Ostby,', 'Woolner,', 'Rugg,', 'Novel,', 'West,', 'Goodwin,', 'Sirayanian,', 'Icard,', 'Harris,', 'Skoog,', 'Stewart,', 'Moubarek,', 'Nye,', 'Crease,', 'Andersson,', 'Kink,', 'Jenkin,', 'Goodwin,', 'Hood,', 'Chronopoulos,', 'Bing,', 'Moen,', 'Staneff,', 'Moutal,', 'Caldwell,', 'Dowdell,', 'Waelens,', 'Sheerlinck,', 'McDermott,', 'Carrau,', 'Ilett,', 'Backstrom,', 'Ford,', 'Slocovski,', 'Fortune,', 'Celotti,', 'Christmann,', 'Andreasson,', 'Chaffee,', 'Dean,', 'Coxon,', 'Shorney,', 'Goldschmidt,', 'Greenfield,', 'Doling,', 'Kantor,', 'Petranec,', 'Petroff,', 'White,', 'Johansson,', 'Gustafsson,', 'Mionoff,', 'Salkjelsvik,', 'Moss,', 'Rekic,', 'Moran,', 'Porter,', 'Zabour,', 'Barton,', 'Jussila,', 'Attalah,', 'Pekoniemi,', 'Connors,', 'Turpin,', 'Baxter,', 'Andersson,', 'Hickman,', 'Moore,', 'Nasser,', 'Webber,', 'White,', 'Nicola-Yarred,', 'McMahon,', 'Madsen,', 'Peter,', 'Ekstrom,', 'Drazenoic,', 'Coelho,', 'Robins,', 'Weisz,', 'Sobey,', 'Richard,', 'Newsom,', 'Futrelle,', 'Osen,', 'Giglio,', 'Boulos,', 'Nysten,', 'Hakkarainen,', 'Burke,', 'Andrew,', 'Nicholls,', 'Andersson,', 'Ford,', 'Navratil,', 'Byles,', 'Bateman,', 'Pears,', 'Meo,', 'van', 'Olsen,', 'Williams,', 'Gilnagh,', 'Corn,', 'Smiljanic,', 'Sage,', 'Cribb,', 'Watt,', 'Bengtsson,', 'Calic,', 'Panula,', 'Goldsmith,', 'Chibnall,', 'Skoog,', 'Baumann,', 'Ling,', 'Van', 'Rice,', 'Johnson,', 'Sivola,', 'Smith,', 'Klasen,', 'Lefebre,', 'Isham,', 'Hale,', 'Leonard,', 'Sage,', 'Pernot,', 'Asplund,', 'Becker,', 'Kink-Heilmann,', 'Rood,', \"O'Brien,\", 'Romaine,', 'Bourke,', 'Turcin,', 'Pinsky,', 'Carbines,', 'Andersen-Jensen,', 'Navratil,', 'Brown,', 'Lurette,', 'Mernagh,', 'Olsen,', 'Madigan,', 'Yrois,', 'Vande', 'Sage,', 'Johanson,', 'Youseff,', 'Cohen,', 'Strom,', 'Backstrom,', 'Albimona,', 'Carr,', 'Blank,', 'Ali,', 'Cameron,', 'Perkin,', 'Givard,', 'Kiernan,', 'Newell,', 'Honkanen,', 'Jacobsohn,', 'Bazzani,', 'Harris,', 'Sunderland,', 'Bracken,', 'Green,', 'Nenkoff,', 'Hoyt,', 'Berglund,', 'Mellors,', 'Lovell,', 'Fahlstrom,', 'Lefebre,', 'Harris,', 'Larsson,', 'Sjostedt,', 'Asplund,', 'Leyson,', 'Harknett,', 'Hold,', 'Collyer,', 'Pengelly,', 'Hunt,', 'Zabour,', 'Murphy,', 'Coleridge,', 'Maenpaa,', 'Attalah,', 'Minahan,', 'Lindahl,', 'Hamalainen,', 'Beckwith,', 'Carter,', 'Reed,', 'Strom,', 'Stead,', 'Lobb,', 'Rosblom,', 'Touma,', 'Thorne,', 'Cherry,', 'Ward,', 'Parrish,', 'Smith,', 'Asplund,', 'Taussig,', 'Harrison,', 'Henry,', 'Reeves,', 'Panula,', 'Persson,', 'Graham,', 'Bissette,', 'Cairns,', 'Tornquist,', 'Mellinger,', 'Natsch,', 'Healy,', 'Andrews,', 'Lindblom,', 'Parkes,', 'Rice,', 'Abbott,', 'Duane,', 'Olsson,', 'de', 'Dorking,', 'Smith,', 'Stankovic,', 'de', 'Naidenoff,', 'Hosono,', 'Connolly,', 'Barber,', 'Bishop,', 'Levy,', 'Haas,', 'Mineff,', 'Lewy,', 'Hanna,', 'Allison,', 'Saalfeld,', 'Baxter,', 'Kelly,', 'McCoy,', 'Johnson,', 'Keane,', 'Williams,', 'Allison,', 'Fleming,', 'Penasco', 'Abelson,', 'Francatelli,', 'Hays,', 'Ryerson,', 'Lahtinen,', 'Hendekovic,', 'Hart,', 'Nilsson,', 'Kantor,', 'Moraweck,', 'Wick,', 'Spedden,', 'Dennis,', 'Danoff,', 'Slayter,', 'Caldwell,', 'Sage,', 'Young,', 'Nysveen,', 'Ball,', 'Goldsmith,', 'Hippach,', 'McCoy,', 'Partner,', 'Graham,', 'Vander', 'Frauenthal,', 'Denkoff,', 'Pears,', 'Burns,', 'Dahl,', 'Blackwell,', 'Navratil,', 'Fortune,', 'Collander,', 'Sedgwick,', 'Fox,', 'Brown,', 'Smith,', 'Davison,', 'Coutts,', 'Dimic,', 'Odahl,', 'Williams-Lambert,', 'Elias,', 'Arnold-Franchi,', 'Yousif,', 'Vanden', 'Bowerman,', 'Funk,', 'McGovern,', 'Mockler,', 'Skoog,', 'del', 'Barbara,', 'Asim,', \"O'Brien,\", 'Adahl,', 'Warren,', 'Moussa,', 'Jermyn,', 'Aubart,', 'Harder,', 'Wiklund,', 'Beavan,', 'Ringhini,', 'Palsson,', 'Meyer,', 'Landergren,', 'Widener,', 'Betros,', 'Gustafsson,', 'Bidois,', 'Nakid,', 'Tikkanen,', 'Holverson,', 'Plotcharsky,', 'Davies,', 'Goodwin,', 'Buss,', 'Sadlier,', 'Lehmann,', 'Carter,', 'Jansson,', 'Gustafsson,', 'Newell,', 'Sandstrom,', 'Johansson,', 'Olsson,', 'McKane,', 'Pain,', 'Trout,', 'Niskanen,', 'Adams,', 'Jussila,', 'Hakkarainen,', 'Oreskovic,', 'Gale,', 'Widegren,', 'Richards,', 'Birkeland,', 'Lefebre,', 'Sdycoff,', 'Hart,', 'Minahan,', 'Cunningham,', 'Sundman,', 'Meek,', 'Drew,', 'Silven,', 'Matthews,', 'Van', 'Gheorgheff,', 'Charters,', 'Zimmerman,', 'Danbom,', 'Rosblom,', 'Wiseman,', 'Clarke,', 'Phillips,', 'Flynn,', 'Pickard,', 'Bjornstrom-Steffansson,', 'Thorneycroft,', 'Louch,', 'Kallio,', 'Silvey,', 'Carter,', 'Ford,', 'Richards,', 'Fortune,', 'Kvillner,', 'Hart,', 'Hampe,', 'Petterson,', 'Reynaldo,', 'Johannesen-Bratthammer,', 'Dodge,', 'Mellinger,', 'Seward,', 'Baclini,', 'Peuchen,', 'West,', 'Hagland,', 'Foreman,', 'Goldenberg,', 'Peduzzi,', 'Jalsevac,', 'Millet,', 'Kenyon,', 'Toomey,', \"O'Connor,\", 'Anderson,', 'Morley,', 'Gee,', 'Milling,', 'Maisner,', 'Goncalves,', 'Campbell,', 'Smart,', 'Scanlan,', 'Baclini,', 'Keefe,', 'Cacic,', 'West,', 'Jerwan,', 'Strandberg,', 'Clifford,', 'Renouf,', 'Braund,', 'Karlsson,', 'Hirvonen,', 'Goodwin,', 'Frost,', 'Rouse,', 'Turkula,', 'Bishop,', 'Lefebre,', 'Hoyt,', 'Kent,', 'Somerton,', 'Coutts,', 'Hagland,', 'Windelov,', 'Molson,', 'Artagaveytia,', 'Stanley,', 'Yousseff,', 'Eustis,', 'Shellard,', 'Allison,', 'Svensson,', 'Calic,', 'Canavan,', \"O'Sullivan,\", 'Laitinen,', 'Maioni,', 'Penasco', 'Quick,', 'Bradley,', 'Olsen,', 'Lang,', 'Daly,', 'Webber,', 'McGough,', 'Rothschild,', 'Coleff,', 'Walker,', 'Lemore,', 'Ryan,', 'Angle,', 'Pavlovic,', 'Perreault,', 'Vovk,', 'Lahoud,', 'Hippach,', 'Kassem,', 'Farrell,', 'Ridsdale,', 'Farthing,', 'Salonen,', 'Hocking,', 'Quick,', 'Toufik,', 'Elias,', 'Peter,', 'Cacic,', 'Hart,', 'Butt,', 'LeRoy,', 'Risien,', 'Frolicher,', 'Crosby,', 'Andersson,', 'Andersson,', 'Beane,', 'Douglas,', 'Nicholson,', 'Beane,', 'Padro', 'Goldsmith,', 'Davies,', 'Thayer,', 'Sharp,', \"O'Brien,\", 'Leeni,', 'Ohman,', 'Wright,', 'Duff', 'Robbins,', 'Taussig,', 'de', 'Morrow,', 'Sivic,', 'Norman,', 'Simmons,', 'Meanwell,', 'Davies,', 'Stoytcheff,', 'Palsson,', 'Doharr,', 'Jonsson,', 'Harris,', 'Appleton,', 'Flynn,', 'Kelly,', 'Rush,', 'Patchett,', 'Garside,', 'Silvey,', 'Caram,', 'Jussila,', 'Christy,', 'Thayer,', 'Downton,', 'Ross,', 'Paulner,', 'Taussig,', 'Jarvis,', 'Frolicher-Stehli,', 'Gilinski,', 'Murdlin,', 'Rintamaki,', 'Stephenson,', 'Elsbury,', 'Bourke,', 'Chapman,', 'Van', 'Leitch,', 'Johnson,', 'Boulos,', 'Duff', 'Jacobsohn,', 'Slabenoff,', 'Harrington,', 'Torber,', 'Homer,', 'Lindell,', 'Karaic,', 'Daniel,', 'Laroche,', 'Shutes,', 'Andersson,', 'Jardin,', 'Murphy,', 'Horgan,', 'Brocklebank,', 'Herman,', 'Danbom,', 'Lobb,', 'Becker,', 'Gavey,', 'Yasbeck,', 'Kimball,', 'Nakid,', 'Hansen,', 'Bowen,', 'Sutton,', 'Kirkland,', 'Longley,', 'Bostandyeff,', \"O'Connell,\", 'Barkworth,', 'Lundahl,', 'Stahelin-Maeglin,', 'Parr,', 'Skoog,', 'Davis,', 'Leinonen,', 'Collyer,', 'Panula,', 'Thorneycroft,', 'Jensen,', 'Sagesser,', 'Skoog,', 'Foo,', 'Baclini,', 'Harper,', 'Cor,', 'Simonius-Blumer,', 'Willey,', 'Stanley,', 'Mitkoff,', 'Doling,', 'Kalvik,', \"O'Leary,\", 'Hegarty,', 'Hickman,', 'Radeff,', 'Bourke,', 'Eitemiller,', 'Newell,', 'Frauenthal,', 'Badt,', 'Colley,', 'Coleff,', 'Lindqvist,', 'Hickman,', 'Butler,', 'Rommetvedt,', 'Cook,', 'Taylor,', 'Brown,', 'Davidson,', 'Mitchell,', 'Wilhelms,', 'Watson,', 'Edvardsson,', 'Sawyer,', 'Turja,', 'Goodwin,', 'Cardeza,', 'Peters,', 'Hassab,', 'Olsvigen,', 'Goodwin,', 'Brown,', 'Laroche,', 'Panula,', 'Dakic,', 'Fischer,', 'Madill,', 'Dick,', 'Karun,', 'Lam,', 'Saad,', 'Weir,', 'Chapman,', 'Kelly,', 'Mullens,', 'Thayer,', 'Humblen,', 'Astor,', 'Silverthorne,', 'Barbara,', 'Gallagher,', 'Hansen,', 'Morley,', 'Kelly,', 'Calderhead,', 'Cleaver,', 'Moubarek,', 'Mayne,', 'Klaber,', 'Taylor,', 'Larsson,', 'Greenberg,', 'Soholt,', 'Endres,', 'Troutt,', 'McEvoy,', 'Johnson,', 'Harper,', 'Jensen,', 'Gillespie,', 'Hodges,', 'Chambers,', 'Oreskovic,', 'Renouf,', 'Mannion,', 'Bryhl,', 'Ilmakangas,', 'Allen,', 'Hassan,', 'Knight,', 'Berriman,', 'Troupiansky,', 'Williams,', 'Ford,', 'Lesurer,', 'Ivanoff,', 'Nankoff,', 'Hawksford,', 'Cavendish,', 'Ryerson,', 'McNamee,', 'Stranden,', 'Crosby,', 'Abbott,', 'Sinkkonen,', 'Marvin,', 'Connaghton,', 'Wells,', 'Moor,', 'Vande', 'Jonkoff,', 'Herman,', 'Hamalainen,', 'Carlsson,', 'Bailey,', 'Theobald,', 'Rothes,', 'Garfirth,', 'Nirva,', 'Barah,', 'Carter,', 'Eklund,', 'Hogeboom,', 'Brewe,', 'Mangan,', 'Moran,', 'Gronnestad,', 'Lievens,', 'Jensen,', 'Mack,', 'Elias,', 'Hocking,', 'Myhrman,', 'Tobin,', 'Emanuel,', 'Kilgannon,', 'Robert,', 'Ayoub,', 'Dick,', 'Long,', 'Johnston,', 'Ali,', 'Harmer,', 'Sjoblom,', 'Rice,', 'Dean,', 'Guggenheim,', 'Keane,', 'Gaskell,', 'Sage,', 'Hoyt,', 'Dantcheff,', 'Otter,', 'Leader,', 'Osman,', 'Ibrahim', 'Van', 'Ponesell,', 'Collyer,', 'Carter,', 'Thomas,', 'Hedman,', 'Johansson,', 'Andrews,', 'Pettersson,', 'Meyer,', 'Chambers,', 'Alexander,', 'Lester,', 'Slemen,', 'Andersson,', 'Tomlin,', 'Fry,', 'Heininen,', 'Mallet,', 'Holm,', 'Skoog,', 'Hays,', 'Lulic,', 'Reuchlin,', 'Moor,', 'Panula,', 'Flynn,', 'Lam,', 'Mallet,', 'McCormack,', 'Stone,', 'Yasbeck,', 'Richards,', 'Saad,', 'Augustsson,', 'Allum,', 'Compton,', 'Pasic,', 'Sirota,', 'Chip,', 'Marechal,', 'Alhomaki,', 'Mudd,', 'Serepeca,', 'Lemberopolous,', 'Culumovic,', 'Abbing,', 'Sage,', 'Markoff,', 'Harper,', 'Goldenberg,', 'Andersson,', 'Svensson,', 'Boulos,', 'Lines,', 'Carter,', 'Aks,', 'Wick,', 'Daly,', 'Baclini,', 'Razi,', 'Hansen,', 'Giles,', 'Swift,', 'Sage,', 'Gill,', 'Bystrom,', 'Duran', 'Roebling,', 'van', 'Johnson,', 'Balkic,', 'Beckwith,', 'Carlsson,', 'Vander', 'Abelson,', 'Najib,', 'Gustafsson,', 'Petroff,', 'Laleff,', 'Potter,', 'Shelley,', 'Markun,', 'Dahlberg,', 'Banfield,', 'Sutehall,', 'Rice,', 'Montvila,', 'Graham,', 'Johnston,', 'Behr,', 'Dooley,']\n"
          ],
          "name": "stdout"
        }
      ]
    },
    {
      "cell_type": "code",
      "metadata": {
        "colab": {
          "base_uri": "https://localhost:8080/",
          "height": 110
        },
        "id": "boj7hVHuS6cI",
        "outputId": "a1f5d7da-3d90-488f-a911-26193b584e67"
      },
      "source": [
        "dataf.head(n=2)"
      ],
      "execution_count": null,
      "outputs": [
        {
          "output_type": "execute_result",
          "data": {
            "text/html": [
              "<div>\n",
              "<style scoped>\n",
              "    .dataframe tbody tr th:only-of-type {\n",
              "        vertical-align: middle;\n",
              "    }\n",
              "\n",
              "    .dataframe tbody tr th {\n",
              "        vertical-align: top;\n",
              "    }\n",
              "\n",
              "    .dataframe thead th {\n",
              "        text-align: right;\n",
              "    }\n",
              "</style>\n",
              "<table border=\"1\" class=\"dataframe\">\n",
              "  <thead>\n",
              "    <tr style=\"text-align: right;\">\n",
              "      <th></th>\n",
              "      <th>PassengerId</th>\n",
              "      <th>Survived</th>\n",
              "      <th>Pclass</th>\n",
              "      <th>Name</th>\n",
              "      <th>Sex</th>\n",
              "      <th>Age</th>\n",
              "      <th>SibSp</th>\n",
              "      <th>Parch</th>\n",
              "      <th>Fare</th>\n",
              "      <th>Embarked</th>\n",
              "    </tr>\n",
              "  </thead>\n",
              "  <tbody>\n",
              "    <tr>\n",
              "      <th>0</th>\n",
              "      <td>1</td>\n",
              "      <td>0</td>\n",
              "      <td>3</td>\n",
              "      <td>Braund, Mr. Owen Harris</td>\n",
              "      <td>male</td>\n",
              "      <td>22.0</td>\n",
              "      <td>1</td>\n",
              "      <td>0</td>\n",
              "      <td>7.2500</td>\n",
              "      <td>S</td>\n",
              "    </tr>\n",
              "    <tr>\n",
              "      <th>1</th>\n",
              "      <td>2</td>\n",
              "      <td>1</td>\n",
              "      <td>1</td>\n",
              "      <td>Cumings, Mrs. John Bradley (Florence Briggs Th...</td>\n",
              "      <td>female</td>\n",
              "      <td>38.0</td>\n",
              "      <td>1</td>\n",
              "      <td>0</td>\n",
              "      <td>71.2833</td>\n",
              "      <td>C</td>\n",
              "    </tr>\n",
              "  </tbody>\n",
              "</table>\n",
              "</div>"
            ],
            "text/plain": [
              "   PassengerId  Survived  Pclass  ... Parch     Fare  Embarked\n",
              "0            1         0       3  ...     0   7.2500         S\n",
              "1            2         1       1  ...     0  71.2833         C\n",
              "\n",
              "[2 rows x 10 columns]"
            ]
          },
          "metadata": {
            "tags": []
          },
          "execution_count": 24
        }
      ]
    },
    {
      "cell_type": "code",
      "metadata": {
        "id": "zuvb8Rp2TARR"
      },
      "source": [
        "dataf3 = pd.DataFrame({'lkey': ['foo', 'bar', 'baz', 'foo'],\n",
        "                    'value': [1, 2, 3, 5]})"
      ],
      "execution_count": null,
      "outputs": []
    },
    {
      "cell_type": "code",
      "metadata": {
        "id": "oLRALlQCTHA-"
      },
      "source": [
        "dataf4 = pd.DataFrame({'rkey': ['foo', 'bar', 'baz', 'foo'],\n",
        "                    'value': [5, 6, 7, 8]})"
      ],
      "execution_count": null,
      "outputs": []
    },
    {
      "cell_type": "code",
      "metadata": {
        "colab": {
          "base_uri": "https://localhost:8080/",
          "height": 172
        },
        "id": "4XEPFlTiTN_z",
        "outputId": "a382fe21-5d40-4a26-d984-c9ddaedf9849"
      },
      "source": [
        "dataf3"
      ],
      "execution_count": null,
      "outputs": [
        {
          "output_type": "execute_result",
          "data": {
            "text/html": [
              "<div>\n",
              "<style scoped>\n",
              "    .dataframe tbody tr th:only-of-type {\n",
              "        vertical-align: middle;\n",
              "    }\n",
              "\n",
              "    .dataframe tbody tr th {\n",
              "        vertical-align: top;\n",
              "    }\n",
              "\n",
              "    .dataframe thead th {\n",
              "        text-align: right;\n",
              "    }\n",
              "</style>\n",
              "<table border=\"1\" class=\"dataframe\">\n",
              "  <thead>\n",
              "    <tr style=\"text-align: right;\">\n",
              "      <th></th>\n",
              "      <th>lkey</th>\n",
              "      <th>value</th>\n",
              "    </tr>\n",
              "  </thead>\n",
              "  <tbody>\n",
              "    <tr>\n",
              "      <th>0</th>\n",
              "      <td>foo</td>\n",
              "      <td>1</td>\n",
              "    </tr>\n",
              "    <tr>\n",
              "      <th>1</th>\n",
              "      <td>bar</td>\n",
              "      <td>2</td>\n",
              "    </tr>\n",
              "    <tr>\n",
              "      <th>2</th>\n",
              "      <td>baz</td>\n",
              "      <td>3</td>\n",
              "    </tr>\n",
              "    <tr>\n",
              "      <th>3</th>\n",
              "      <td>foo</td>\n",
              "      <td>5</td>\n",
              "    </tr>\n",
              "  </tbody>\n",
              "</table>\n",
              "</div>"
            ],
            "text/plain": [
              "  lkey  value\n",
              "0  foo      1\n",
              "1  bar      2\n",
              "2  baz      3\n",
              "3  foo      5"
            ]
          },
          "metadata": {
            "tags": []
          },
          "execution_count": 27
        }
      ]
    },
    {
      "cell_type": "code",
      "metadata": {
        "colab": {
          "base_uri": "https://localhost:8080/",
          "height": 172
        },
        "id": "ZZUnKY9CTQzV",
        "outputId": "be098021-2d24-41c6-eb82-42cc4841d36a"
      },
      "source": [
        "dataf4"
      ],
      "execution_count": null,
      "outputs": [
        {
          "output_type": "execute_result",
          "data": {
            "text/html": [
              "<div>\n",
              "<style scoped>\n",
              "    .dataframe tbody tr th:only-of-type {\n",
              "        vertical-align: middle;\n",
              "    }\n",
              "\n",
              "    .dataframe tbody tr th {\n",
              "        vertical-align: top;\n",
              "    }\n",
              "\n",
              "    .dataframe thead th {\n",
              "        text-align: right;\n",
              "    }\n",
              "</style>\n",
              "<table border=\"1\" class=\"dataframe\">\n",
              "  <thead>\n",
              "    <tr style=\"text-align: right;\">\n",
              "      <th></th>\n",
              "      <th>rkey</th>\n",
              "      <th>value</th>\n",
              "    </tr>\n",
              "  </thead>\n",
              "  <tbody>\n",
              "    <tr>\n",
              "      <th>0</th>\n",
              "      <td>foo</td>\n",
              "      <td>5</td>\n",
              "    </tr>\n",
              "    <tr>\n",
              "      <th>1</th>\n",
              "      <td>bar</td>\n",
              "      <td>6</td>\n",
              "    </tr>\n",
              "    <tr>\n",
              "      <th>2</th>\n",
              "      <td>baz</td>\n",
              "      <td>7</td>\n",
              "    </tr>\n",
              "    <tr>\n",
              "      <th>3</th>\n",
              "      <td>foo</td>\n",
              "      <td>8</td>\n",
              "    </tr>\n",
              "  </tbody>\n",
              "</table>\n",
              "</div>"
            ],
            "text/plain": [
              "  rkey  value\n",
              "0  foo      5\n",
              "1  bar      6\n",
              "2  baz      7\n",
              "3  foo      8"
            ]
          },
          "metadata": {
            "tags": []
          },
          "execution_count": 28
        }
      ]
    },
    {
      "cell_type": "code",
      "metadata": {
        "colab": {
          "base_uri": "https://localhost:8080/",
          "height": 234
        },
        "id": "0ZLUlUmUTUOe",
        "outputId": "bc000a87-69c6-410b-f336-8dff602babc0"
      },
      "source": [
        "dataf3.merge(dataf4, left_on='lkey', right_on='rkey')"
      ],
      "execution_count": null,
      "outputs": [
        {
          "output_type": "execute_result",
          "data": {
            "text/html": [
              "<div>\n",
              "<style scoped>\n",
              "    .dataframe tbody tr th:only-of-type {\n",
              "        vertical-align: middle;\n",
              "    }\n",
              "\n",
              "    .dataframe tbody tr th {\n",
              "        vertical-align: top;\n",
              "    }\n",
              "\n",
              "    .dataframe thead th {\n",
              "        text-align: right;\n",
              "    }\n",
              "</style>\n",
              "<table border=\"1\" class=\"dataframe\">\n",
              "  <thead>\n",
              "    <tr style=\"text-align: right;\">\n",
              "      <th></th>\n",
              "      <th>lkey</th>\n",
              "      <th>value_x</th>\n",
              "      <th>rkey</th>\n",
              "      <th>value_y</th>\n",
              "    </tr>\n",
              "  </thead>\n",
              "  <tbody>\n",
              "    <tr>\n",
              "      <th>0</th>\n",
              "      <td>foo</td>\n",
              "      <td>1</td>\n",
              "      <td>foo</td>\n",
              "      <td>5</td>\n",
              "    </tr>\n",
              "    <tr>\n",
              "      <th>1</th>\n",
              "      <td>foo</td>\n",
              "      <td>1</td>\n",
              "      <td>foo</td>\n",
              "      <td>8</td>\n",
              "    </tr>\n",
              "    <tr>\n",
              "      <th>2</th>\n",
              "      <td>foo</td>\n",
              "      <td>5</td>\n",
              "      <td>foo</td>\n",
              "      <td>5</td>\n",
              "    </tr>\n",
              "    <tr>\n",
              "      <th>3</th>\n",
              "      <td>foo</td>\n",
              "      <td>5</td>\n",
              "      <td>foo</td>\n",
              "      <td>8</td>\n",
              "    </tr>\n",
              "    <tr>\n",
              "      <th>4</th>\n",
              "      <td>bar</td>\n",
              "      <td>2</td>\n",
              "      <td>bar</td>\n",
              "      <td>6</td>\n",
              "    </tr>\n",
              "    <tr>\n",
              "      <th>5</th>\n",
              "      <td>baz</td>\n",
              "      <td>3</td>\n",
              "      <td>baz</td>\n",
              "      <td>7</td>\n",
              "    </tr>\n",
              "  </tbody>\n",
              "</table>\n",
              "</div>"
            ],
            "text/plain": [
              "  lkey  value_x rkey  value_y\n",
              "0  foo        1  foo        5\n",
              "1  foo        1  foo        8\n",
              "2  foo        5  foo        5\n",
              "3  foo        5  foo        8\n",
              "4  bar        2  bar        6\n",
              "5  baz        3  baz        7"
            ]
          },
          "metadata": {
            "tags": []
          },
          "execution_count": 29
        }
      ]
    },
    {
      "cell_type": "code",
      "metadata": {
        "id": "Z56VW033TbjK"
      },
      "source": [
        "def name_extract(word):\n",
        "    return word.split(\",\")[1].split(\".\")[0].strip()"
      ],
      "execution_count": null,
      "outputs": []
    },
    {
      "cell_type": "code",
      "metadata": {
        "colab": {
          "base_uri": "https://localhost:8080/",
          "height": 35
        },
        "id": "dj0OyFqGTfmp",
        "outputId": "cea19713-99c8-4d67-edf2-3432025c7e7d"
      },
      "source": [
        "name_extract(\"Kelly, Mr. James\")"
      ],
      "execution_count": null,
      "outputs": [
        {
          "output_type": "execute_result",
          "data": {
            "application/vnd.google.colaboratory.intrinsic+json": {
              "type": "string"
            },
            "text/plain": [
              "'Mr'"
            ]
          },
          "metadata": {
            "tags": []
          },
          "execution_count": 31
        }
      ]
    },
    {
      "cell_type": "code",
      "metadata": {
        "id": "jvKIcwA7Tjk2"
      },
      "source": [
        "dataf5=pd.DataFrame({\"Salutation\":dataf[\"Name\"].apply(name_extract)})"
      ],
      "execution_count": null,
      "outputs": []
    },
    {
      "cell_type": "code",
      "metadata": {
        "colab": {
          "base_uri": "https://localhost:8080/",
          "height": 203
        },
        "id": "UB_-dry6Tt5f",
        "outputId": "4ddca4f2-284f-44f4-9a07-2421b7765075"
      },
      "source": [
        "dataf5.head()"
      ],
      "execution_count": null,
      "outputs": [
        {
          "output_type": "execute_result",
          "data": {
            "text/html": [
              "<div>\n",
              "<style scoped>\n",
              "    .dataframe tbody tr th:only-of-type {\n",
              "        vertical-align: middle;\n",
              "    }\n",
              "\n",
              "    .dataframe tbody tr th {\n",
              "        vertical-align: top;\n",
              "    }\n",
              "\n",
              "    .dataframe thead th {\n",
              "        text-align: right;\n",
              "    }\n",
              "</style>\n",
              "<table border=\"1\" class=\"dataframe\">\n",
              "  <thead>\n",
              "    <tr style=\"text-align: right;\">\n",
              "      <th></th>\n",
              "      <th>Salutation</th>\n",
              "    </tr>\n",
              "  </thead>\n",
              "  <tbody>\n",
              "    <tr>\n",
              "      <th>0</th>\n",
              "      <td>Mr</td>\n",
              "    </tr>\n",
              "    <tr>\n",
              "      <th>1</th>\n",
              "      <td>Mrs</td>\n",
              "    </tr>\n",
              "    <tr>\n",
              "      <th>2</th>\n",
              "      <td>Miss</td>\n",
              "    </tr>\n",
              "    <tr>\n",
              "      <th>3</th>\n",
              "      <td>Mrs</td>\n",
              "    </tr>\n",
              "    <tr>\n",
              "      <th>4</th>\n",
              "      <td>Mr</td>\n",
              "    </tr>\n",
              "  </tbody>\n",
              "</table>\n",
              "</div>"
            ],
            "text/plain": [
              "  Salutation\n",
              "0         Mr\n",
              "1        Mrs\n",
              "2       Miss\n",
              "3        Mrs\n",
              "4         Mr"
            ]
          },
          "metadata": {
            "tags": []
          },
          "execution_count": 34
        }
      ]
    },
    {
      "cell_type": "code",
      "metadata": {
        "id": "vNoNcTBFTynO"
      },
      "source": [
        "dataf=pd.merge(dataf,dataf5,left_index=True,right_index=True)"
      ],
      "execution_count": null,
      "outputs": []
    },
    {
      "cell_type": "code",
      "metadata": {
        "colab": {
          "base_uri": "https://localhost:8080/",
          "height": 203
        },
        "id": "ai293jFwT6RS",
        "outputId": "4ed0935d-76e0-4fe7-8e18-3f8fbefe1462"
      },
      "source": [
        "dataf.head()"
      ],
      "execution_count": null,
      "outputs": [
        {
          "output_type": "execute_result",
          "data": {
            "text/html": [
              "<div>\n",
              "<style scoped>\n",
              "    .dataframe tbody tr th:only-of-type {\n",
              "        vertical-align: middle;\n",
              "    }\n",
              "\n",
              "    .dataframe tbody tr th {\n",
              "        vertical-align: top;\n",
              "    }\n",
              "\n",
              "    .dataframe thead th {\n",
              "        text-align: right;\n",
              "    }\n",
              "</style>\n",
              "<table border=\"1\" class=\"dataframe\">\n",
              "  <thead>\n",
              "    <tr style=\"text-align: right;\">\n",
              "      <th></th>\n",
              "      <th>PassengerId</th>\n",
              "      <th>Survived</th>\n",
              "      <th>Pclass</th>\n",
              "      <th>Name</th>\n",
              "      <th>Sex</th>\n",
              "      <th>Age</th>\n",
              "      <th>SibSp</th>\n",
              "      <th>Parch</th>\n",
              "      <th>Fare</th>\n",
              "      <th>Embarked</th>\n",
              "      <th>Salutation</th>\n",
              "    </tr>\n",
              "  </thead>\n",
              "  <tbody>\n",
              "    <tr>\n",
              "      <th>0</th>\n",
              "      <td>1</td>\n",
              "      <td>0</td>\n",
              "      <td>3</td>\n",
              "      <td>Braund, Mr. Owen Harris</td>\n",
              "      <td>male</td>\n",
              "      <td>22.0</td>\n",
              "      <td>1</td>\n",
              "      <td>0</td>\n",
              "      <td>7.2500</td>\n",
              "      <td>S</td>\n",
              "      <td>Mr</td>\n",
              "    </tr>\n",
              "    <tr>\n",
              "      <th>1</th>\n",
              "      <td>2</td>\n",
              "      <td>1</td>\n",
              "      <td>1</td>\n",
              "      <td>Cumings, Mrs. John Bradley (Florence Briggs Th...</td>\n",
              "      <td>female</td>\n",
              "      <td>38.0</td>\n",
              "      <td>1</td>\n",
              "      <td>0</td>\n",
              "      <td>71.2833</td>\n",
              "      <td>C</td>\n",
              "      <td>Mrs</td>\n",
              "    </tr>\n",
              "    <tr>\n",
              "      <th>2</th>\n",
              "      <td>3</td>\n",
              "      <td>1</td>\n",
              "      <td>3</td>\n",
              "      <td>Heikkinen, Miss. Laina</td>\n",
              "      <td>female</td>\n",
              "      <td>26.0</td>\n",
              "      <td>0</td>\n",
              "      <td>0</td>\n",
              "      <td>7.9250</td>\n",
              "      <td>S</td>\n",
              "      <td>Miss</td>\n",
              "    </tr>\n",
              "    <tr>\n",
              "      <th>3</th>\n",
              "      <td>4</td>\n",
              "      <td>1</td>\n",
              "      <td>1</td>\n",
              "      <td>Futrelle, Mrs. Jacques Heath (Lily May Peel)</td>\n",
              "      <td>female</td>\n",
              "      <td>35.0</td>\n",
              "      <td>1</td>\n",
              "      <td>0</td>\n",
              "      <td>53.1000</td>\n",
              "      <td>S</td>\n",
              "      <td>Mrs</td>\n",
              "    </tr>\n",
              "    <tr>\n",
              "      <th>4</th>\n",
              "      <td>5</td>\n",
              "      <td>0</td>\n",
              "      <td>3</td>\n",
              "      <td>Allen, Mr. William Henry</td>\n",
              "      <td>male</td>\n",
              "      <td>35.0</td>\n",
              "      <td>0</td>\n",
              "      <td>0</td>\n",
              "      <td>8.0500</td>\n",
              "      <td>S</td>\n",
              "      <td>Mr</td>\n",
              "    </tr>\n",
              "  </tbody>\n",
              "</table>\n",
              "</div>"
            ],
            "text/plain": [
              "   PassengerId  Survived  Pclass  ...     Fare Embarked  Salutation\n",
              "0            1         0       3  ...   7.2500        S          Mr\n",
              "1            2         1       1  ...  71.2833        C         Mrs\n",
              "2            3         1       3  ...   7.9250        S        Miss\n",
              "3            4         1       1  ...  53.1000        S         Mrs\n",
              "4            5         0       3  ...   8.0500        S          Mr\n",
              "\n",
              "[5 rows x 11 columns]"
            ]
          },
          "metadata": {
            "tags": []
          },
          "execution_count": 36
        }
      ]
    },
    {
      "cell_type": "code",
      "metadata": {
        "colab": {
          "base_uri": "https://localhost:8080/"
        },
        "id": "aviUWS8oT-ya",
        "outputId": "62e35dc8-1535-4a30-f1bd-23084de6bf98"
      },
      "source": [
        "dataf.Salutation.unique()"
      ],
      "execution_count": null,
      "outputs": [
        {
          "output_type": "execute_result",
          "data": {
            "text/plain": [
              "array(['Mr', 'Mrs', 'Miss', 'Master', 'Don', 'Rev', 'Dr', 'Mme', 'Ms',\n",
              "       'Major', 'Lady', 'Sir', 'Mlle', 'Col', 'Capt', 'the Countess',\n",
              "       'Jonkheer'], dtype=object)"
            ]
          },
          "metadata": {
            "tags": []
          },
          "execution_count": 37
        }
      ]
    }
  ]
}